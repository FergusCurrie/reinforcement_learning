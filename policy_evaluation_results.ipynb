{
 "cells": [
  {
   "cell_type": "markdown",
   "id": "98034b68-16e0-40b0-814f-3c55e8ff0615",
   "metadata": {},
   "source": [
    "# Hex World \n",
    "\n",
    "Algorithms:\n",
    "- Lookahead (loopy)\n",
    "- Lookahead (transmission matrix)\n",
    "- System of equations "
   ]
  },
  {
   "cell_type": "markdown",
   "id": "ca75b6a6-298f-4951-bf52-bcda406e320d",
   "metadata": {},
   "source": [
    "# Exact Solution Methods to Sequential Problems using HexWorld Problem from ADM"
   ]
  },
  {
   "cell_type": "code",
   "execution_count": null,
   "id": "3f2f9a1c-015b-40f8-8843-bf84f98fe6f6",
   "metadata": {},
   "outputs": [],
   "source": [
    "from typing import Tuple, List\n",
    "from hex_world import HexWorld, HexMove, Hexagon\n",
    "import numpy as np\n",
    "from skimage import io \n",
    "\n",
    "GRID = [\n",
    "    [ \"0\",\"0\",\"0\", \"0\",\"0\",\"0\",\"0\", \"0\",\"0\",\"0\",],\n",
    "    [\"5\",\"0\",\"0\", \"X\",\"0\",\"0\",\"X\",\"X\",\"0\",\"0\",],\n",
    "    [\"0\",\"0\",\"-10\", \"0\",\"X\", \"0\",\"0\",\"0\", \"X\",\"10\"],\n",
    "]\n",
    "EAST_POLICY = [[HexMove.EAST for _ in range(10)] for _ in range(3)]\n",
    "hw = HexWorld(grid=GRID, policy=EAST_POLICY)\n"
   ]
  },
  {
   "cell_type": "code",
   "execution_count": null,
   "id": "fece8bb6-b8fd-4fd5-ba5b-5ba99841328e",
   "metadata": {},
   "outputs": [],
   "source": [
    "hw.plt_graph()"
   ]
  },
  {
   "cell_type": "code",
   "execution_count": null,
   "id": "d8c88fc1-a9d2-4990-8a70-92f09ef95568",
   "metadata": {},
   "outputs": [],
   "source": [
    "hw.plt_graph(show_score=True, show_policy=True)"
   ]
  },
  {
   "cell_type": "code",
   "execution_count": null,
   "id": "fa94fd35-1e1e-4010-b0e1-0d590e7fea57",
   "metadata": {},
   "outputs": [],
   "source": [
    "T, R = hw.get_mdp()"
   ]
  },
  {
   "cell_type": "code",
   "execution_count": null,
   "id": "530627f5-23bd-46a2-8053-fd229d871ea1",
   "metadata": {},
   "outputs": [],
   "source": [
    "\n",
    "io.imshow(T[9])"
   ]
  },
  {
   "cell_type": "code",
   "execution_count": null,
   "id": "907ad93a-1127-4fc0-8bc5-e70c26212066",
   "metadata": {},
   "outputs": [],
   "source": [
    "io.imshow(R)"
   ]
  },
  {
   "cell_type": "markdown",
   "id": "baea17aa-d42b-4130-be5a-f2f900d6486b",
   "metadata": {},
   "source": [
    "# Loopy lookahead and MDP lookahead"
   ]
  },
  {
   "cell_type": "code",
   "execution_count": null,
   "id": "f392a85a-eb9d-4e09-b662-697134fa3a4e",
   "metadata": {},
   "outputs": [],
   "source": [
    "from policy_evaluation import loopy_lookahead, transmission_lookahead\n",
    "\n",
    "hw = HexWorld(grid=GRID, policy=EAST_POLICY)\n",
    "T, R = hw.get_mdp()\n",
    "Ut = transmission_lookahead(T, R, hw)\n",
    "Ul = loopy_lookahead(hw)\n",
    "assert np.allclose(Ut, Ul)"
   ]
  },
  {
   "cell_type": "code",
   "execution_count": null,
   "id": "02c35dad-1ff7-48ef-a00b-169b277e584e",
   "metadata": {},
   "outputs": [],
   "source": [
    "for line in Ut.reshape(3,10):\n",
    "    print(line)"
   ]
  },
  {
   "cell_type": "code",
   "execution_count": null,
   "id": "338afa78-b43a-4b5d-a8ef-4d23ec0077e7",
   "metadata": {},
   "outputs": [],
   "source": [
    "for line in Ul.reshape(3,10):\n",
    "    print(line)"
   ]
  },
  {
   "cell_type": "markdown",
   "id": "a6c251ab-781b-4cf7-98fa-37b955f03eae",
   "metadata": {},
   "source": [
    "inf is for hexagons without policy. This is the case for value > 0 hexagon where all inputs have the same result (reward + move to terminal state). Ut and Ul are for lookahead calculated using a loopy implementation and the transmission matrix repsectively. "
   ]
  },
  {
   "cell_type": "markdown",
   "id": "45314d4a-39d6-4827-9056-e07ccdc83547",
   "metadata": {},
   "source": [
    "# Solving System of Equations \n",
    "\n",
    "Still a bit to wrokon here. Solves a system but results are not correct."
   ]
  },
  {
   "cell_type": "code",
   "execution_count": null,
   "id": "9e9f4daf-1143-4446-9323-09c233b7485b",
   "metadata": {},
   "outputs": [],
   "source": [
    "policy = 0\n",
    "T_policy = T[:, policy, :]\n",
    "mask = np.sum(T_policy, axis=-1) == 1\n",
    "T_policy_cleaned = T_policy[mask][:, mask]"
   ]
  },
  {
   "cell_type": "code",
   "execution_count": null,
   "id": "94e7ded8-e08f-46bc-914f-5a01dee5d286",
   "metadata": {},
   "outputs": [],
   "source": [
    "assert(np.mean(np.sum(T_policy_cleaned, axis=1)) == 1)"
   ]
  },
  {
   "cell_type": "code",
   "execution_count": null,
   "id": "a4fa1329-3401-4848-9eac-3da3294b148f",
   "metadata": {},
   "outputs": [],
   "source": [
    "io.imshow(T_policy_cleaned)"
   ]
  },
  {
   "cell_type": "code",
   "execution_count": null,
   "id": "2faafd0a-2295-48b9-80af-2c21881202d9",
   "metadata": {},
   "outputs": [],
   "source": [
    "gamma = 0.99\n",
    "U_linear_eq = np.linalg.inv(np.eye(T_policy_cleaned.shape[0]) - gamma*T_policy_cleaned) @ R[mask][:,policy][...,np.newaxis]\n",
    "# lets put this back in \n",
    "Ue = np.ones(len(mask))\n",
    "sub = 0 \n",
    "for i, mask_i in enumerate(mask):\n",
    "    mask_i = mask_i * 1 # bool -> int \n",
    "    if mask_i == 0:\n",
    "        sub += 1\n",
    "        continue \n",
    "    Ue[i] = U_linear_eq[i-sub]\n",
    "# drop final\n",
    "Ue = Ue[:len(Ue)-1]\n",
    "Ue = np.around(Ue, decimals=3)\n",
    "Ue.shape"
   ]
  },
  {
   "cell_type": "code",
   "execution_count": null,
   "id": "e5881f45-aebd-44aa-8714-c4511b6f69c8",
   "metadata": {},
   "outputs": [],
   "source": [
    "for line in \n",
    "    print(line)"
   ]
  },
  {
   "cell_type": "markdown",
   "id": "3796b004-6481-4c01-acc0-e898f8f508ae",
   "metadata": {},
   "source": [
    "U_linear_eq. fials without gamma by making matrix singular"
   ]
  },
  {
   "cell_type": "code",
   "execution_count": null,
   "id": "130fd4df-b729-47e5-8901-36b1d047332b",
   "metadata": {},
   "outputs": [],
   "source": []
  }
 ],
 "metadata": {
  "kernelspec": {
   "display_name": "Python 3 (ipykernel)",
   "language": "python",
   "name": "python3"
  },
  "language_info": {
   "codemirror_mode": {
    "name": "ipython",
    "version": 3
   },
   "file_extension": ".py",
   "mimetype": "text/x-python",
   "name": "python",
   "nbconvert_exporter": "python",
   "pygments_lexer": "ipython3",
   "version": "3.10.6"
  }
 },
 "nbformat": 4,
 "nbformat_minor": 5
}

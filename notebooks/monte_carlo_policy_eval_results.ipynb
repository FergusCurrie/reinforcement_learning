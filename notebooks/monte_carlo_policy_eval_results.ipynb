{
 "cells": [
  {
   "cell_type": "markdown",
   "id": "20330bc5-b8dd-465c-a7c7-0c39ac93d592",
   "metadata": {},
   "source": [
    "# Monte Carlo Policy Evaluation Results "
   ]
  },
  {
   "cell_type": "code",
   "execution_count": 155,
   "id": "2318e2eb-f073-4493-9a5a-de74706fb6c1",
   "metadata": {},
   "outputs": [
    {
     "name": "stdout",
     "output_type": "stream",
     "text": [
      "The autoreload extension is already loaded. To reload it, use:\n",
      "  %reload_ext autoreload\n"
     ]
    }
   ],
   "source": [
    "from IPython.lib.deepreload import reload\n",
    "%load_ext autoreload\n",
    "%autoreload 2"
   ]
  },
  {
   "cell_type": "code",
   "execution_count": 156,
   "id": "34875598-6e3c-44fc-957e-cdc96fb05188",
   "metadata": {},
   "outputs": [],
   "source": [
    "GRID = [\n",
    "    [\n",
    "        \"0\",\n",
    "        \"0\",\n",
    "        \"0\",\n",
    "        \"0\",\n",
    "        \"0\",\n",
    "        \"0\",\n",
    "        \"0\",\n",
    "        \"0\",\n",
    "        \"0\",\n",
    "        \"0\",\n",
    "    ],\n",
    "    [\n",
    "        \"5\",\n",
    "        \"0\",\n",
    "        \"0\",\n",
    "        \"X\",\n",
    "        \"0\",\n",
    "        \"0\",\n",
    "        \"X\",\n",
    "        \"X\",\n",
    "        \"0\",\n",
    "        \"0\",\n",
    "    ],\n",
    "    [\"0\", \"0\", \"-10\", \"0\", \"X\", \"0\", \"0\", \"0\", \"X\", \"10\"],\n",
    "]"
   ]
  },
  {
   "cell_type": "code",
   "execution_count": 174,
   "id": "c4374579-c0bc-4104-ab83-8c0ee7d58b1c",
   "metadata": {},
   "outputs": [],
   "source": [
    "from typing import Tuple, List\n",
    "from hex_world import HexWorld, HexMove, Hexagon\n",
    "import numpy as np\n",
    "from skimage import io \n",
    "from monte_carlo_policy_eval import policy_list_to_matrix, get_hex_world_prior,sample_trajectories, first_visit_monte_carlo_policy_eval\n",
    "\n",
    "random_policy = [[[h for h in HexMove][np.random.choice(np.arange(6))] for _ in range(10)] for _ in range(3)]\n",
    "EAST_POLICY = [[HexMove.EAST for _ in range(10)] for _ in range(3)]\n",
    "hw = HexWorld(grid=GRID, policy=EAST_POLICY)\n",
    "T, R = hw.get_mdp()\n",
    "prior = get_hex_world_prior()\n",
    "policy_matrix = policy_list_to_matrix(random_policy)"
   ]
  },
  {
   "cell_type": "markdown",
   "id": "d3e7de01-7162-437f-9844-94c16c011b97",
   "metadata": {},
   "source": [
    "# first vist mc \n",
    "\n",
    "- T- 1 time steps in traj. \n",
    "- traj has (s,a) * T-1 = 2(T-1) = 2T - 2 elemnts, so T = (len(traj) + 2) / 2\n",
    "- each (s,a) can map to 1 reward"
   ]
  },
  {
   "cell_type": "code",
   "execution_count": 175,
   "id": "a75c22a3-af7d-4cde-925a-7ad673ca2d96",
   "metadata": {},
   "outputs": [
    {
     "data": {
      "text/plain": [
       "array([ -8.68745813,   4.70740075,  -9.801     ,  -9.41480149,\n",
       "        -7.62342714,   4.52191038,   0.        ,   0.        ,\n",
       "         0.        ,   9.41480149,   5.        ,   4.851495  ,\n",
       "        -9.70299   ,   0.        ,  -8.60058355,  -8.09727868,\n",
       "         0.        ,   0.        ,   9.5099005 ,   9.32065348,\n",
       "         4.95      ,   4.9005    , -10.        ,  -9.801     ,\n",
       "         0.        ,  -8.17906938,   0.        ,   0.        ,\n",
       "         0.        ,  10.        ,   0.        ])"
      ]
     },
     "execution_count": 175,
     "metadata": {},
     "output_type": "execute_result"
    }
   ],
   "source": [
    "value_function = first_visit_monte_carlo_policy_eval(T, policy_matrix, R, prior)\n",
    "value_function"
   ]
  }
 ],
 "metadata": {
  "kernelspec": {
   "display_name": "dlvenv",
   "language": "python",
   "name": "dlvenv"
  },
  "language_info": {
   "codemirror_mode": {
    "name": "ipython",
    "version": 3
   },
   "file_extension": ".py",
   "mimetype": "text/x-python",
   "name": "python",
   "nbconvert_exporter": "python",
   "pygments_lexer": "ipython3",
   "version": "3.10.6"
  }
 },
 "nbformat": 4,
 "nbformat_minor": 5
}

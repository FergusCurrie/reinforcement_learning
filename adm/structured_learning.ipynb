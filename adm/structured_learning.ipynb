{
 "cells": [
  {
   "cell_type": "markdown",
   "id": "b07cc22e-dd6b-4886-b14f-6dc8f8bba041",
   "metadata": {},
   "source": [
    "# Structured Learning \n",
    "\n",
    "Learning a PGM given the data. \n",
    "\n"
   ]
  },
  {
   "cell_type": "code",
   "execution_count": null,
   "id": "c486e263-0d87-4c60-8267-210d083d8ed0",
   "metadata": {},
   "outputs": [],
   "source": []
  }
 ],
 "metadata": {
  "kernelspec": {
   "display_name": "Python 3 (ipykernel)",
   "language": "python",
   "name": "python3"
  },
  "language_info": {
   "codemirror_mode": {
    "name": "ipython",
    "version": 3
   },
   "file_extension": ".py",
   "mimetype": "text/x-python",
   "name": "python",
   "nbconvert_exporter": "python",
   "pygments_lexer": "ipython3",
   "version": "3.10.6"
  }
 },
 "nbformat": 4,
 "nbformat_minor": 5
}
